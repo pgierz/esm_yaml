{
 "cells": [
  {
   "cell_type": "code",
   "execution_count": 1,
   "metadata": {},
   "outputs": [],
   "source": [
    "import esm_parser\n",
    "\n",
    "import logging\n",
    "logging.basicConfig(level=logging.DEBUG, format=esm_parser.FORMAT)"
   ]
  },
  {
   "cell_type": "code",
   "execution_count": 2,
   "metadata": {},
   "outputs": [
    {
     "name": "stderr",
     "output_type": "stream",
     "text": [
      "[2019-07-22 14:13:32,352,352:esm_parser.py:74 -    yaml_file_to_dict() ] IOError (2) File not found with /Users/pgierz/Documents/Code/esm_yaml/functions/general_py/..//test_echam/test_echam, trying another extension pattern.\n",
      "[2019-07-22 14:13:32,354,354:esm_parser.py:74 -    yaml_file_to_dict() ] IOError (2) File not found with /Users/pgierz/Documents/Code/esm_yaml/functions/general_py/..//test_echam/test_echam.yml, trying another extension pattern.\n",
      "[2019-07-22 14:13:32,370,370:esm_parser.py:151 - attach_to_config_and_remove() ] Attaching: test_echam to datasets.yaml\n"
     ]
    },
    {
     "data": {
      "text/plain": [
       "{}"
      ]
     },
     "execution_count": 2,
     "metadata": {},
     "output_type": "execute_result"
    }
   ],
   "source": [
    "config = esm_parser.ConfigTest(\"test_echam\")\n",
    "\n",
    "config"
   ]
  },
  {
   "cell_type": "code",
   "execution_count": 3,
   "metadata": {},
   "outputs": [
    {
     "data": {
      "text/plain": [
       "{}"
      ]
     },
     "execution_count": 3,
     "metadata": {},
     "output_type": "execute_result"
    }
   ],
   "source": [
    "esm_parser.list_all_keys_starting_with_choose(config)"
   ]
  },
  {
   "cell_type": "code",
   "execution_count": 4,
   "metadata": {},
   "outputs": [
    {
     "name": "stderr",
     "output_type": "stream",
     "text": [
      "[2019-07-22 14:13:32,400,400:esm_parser.py:74 -    yaml_file_to_dict() ] IOError (2) File not found with /Users/pgierz/Documents/Code/esm_yaml/functions/general_py/..//test_echam/test_echam, trying another extension pattern.\n",
      "[2019-07-22 14:13:32,402,402:esm_parser.py:74 -    yaml_file_to_dict() ] IOError (2) File not found with /Users/pgierz/Documents/Code/esm_yaml/functions/general_py/..//test_echam/test_echam.yml, trying another extension pattern.\n",
      "[2019-07-22 14:13:32,417,417:esm_parser.py:151 - attach_to_config_and_remove() ] Attaching: test_echam to datasets.yaml\n",
      "[2019-07-22 14:13:32,434,434:esm_parser.py:861 -         _config_init() ] setup config is being updated with setup_relevant_configs\n",
      "[2019-07-22 14:13:32,434,434:esm_parser.py:111 - attach_to_config_and_reduce_keyword() ] Attaching:  for test_jsbach\n",
      "[2019-07-22 14:13:32,435,435:esm_parser.py:74 -    yaml_file_to_dict() ] IOError (2) File not found with /Users/pgierz/Documents/Code/esm_yaml/functions/general_py/..//test_jsbach/test_jsbach, trying another extension pattern.\n",
      "[2019-07-22 14:13:32,436,436:esm_parser.py:74 -    yaml_file_to_dict() ] IOError (2) File not found with /Users/pgierz/Documents/Code/esm_yaml/functions/general_py/..//test_jsbach/test_jsbach.yml, trying another extension pattern.\n",
      "[2019-07-22 14:13:32,445,445:esm_parser.py:119 - attach_to_config_and_reduce_keyword() ] Attaching: further_reading\n",
      "[2019-07-22 14:13:32,446,446:esm_parser.py:151 - attach_to_config_and_remove() ] Attaching: test_jsbach to datasets.yaml\n",
      "[2019-07-22 14:13:32,450,450:esm_parser.py:883 -         _config_init() ] Valid Setup Names = ['computer', 'standalone']\n",
      "[2019-07-22 14:13:32,451,451:esm_parser.py:884 -         _config_init() ] Valid Model Names = ['test_echam', 'test_jsbach']\n",
      "[2019-07-22 14:13:32,451,451:esm_parser.py:890 -         _config_init() ] computer choose_jobtype {'post': {'partition': 'smp'}, 'compute': {'partition': 'mpp'}}\n",
      "[2019-07-22 14:13:32,452,452:esm_parser.py:395 - determine_set_variables_in_choose_block() ] valid_model_names=['computer', 'standalone']\n",
      "[2019-07-22 14:13:32,453,453:esm_parser.py:395 - determine_set_variables_in_choose_block() ] valid_model_names=['computer', 'standalone']\n",
      "[2019-07-22 14:13:32,454,454:esm_parser.py:395 - determine_set_variables_in_choose_block() ] valid_model_names=['computer', 'standalone']\n",
      "[2019-07-22 14:13:32,454,454:esm_parser.py:890 -         _config_init() ] computer choose_partition {'mpp': {'cores_per_node': 36}, 'smp': {'cores_per_node': 1}}\n",
      "[2019-07-22 14:13:32,455,455:esm_parser.py:395 - determine_set_variables_in_choose_block() ] valid_model_names=['computer', 'standalone']\n",
      "[2019-07-22 14:13:32,455,455:esm_parser.py:395 - determine_set_variables_in_choose_block() ] valid_model_names=['computer', 'standalone']\n",
      "[2019-07-22 14:13:32,456,456:esm_parser.py:395 - determine_set_variables_in_choose_block() ] valid_model_names=['computer', 'standalone']\n",
      "[2019-07-22 14:13:32,457,457:esm_parser.py:890 -         _config_init() ] computer choose_submitted {True: {'modules_needed': ['centoslibs']}}\n",
      "[2019-07-22 14:13:32,458,458:esm_parser.py:395 - determine_set_variables_in_choose_block() ] valid_model_names=['computer', 'standalone']\n",
      "[2019-07-22 14:13:32,458,458:esm_parser.py:395 - determine_set_variables_in_choose_block() ] valid_model_names=['computer', 'standalone']\n",
      "[2019-07-22 14:13:32,459,459:esm_parser.py:893 -         _config_init() ] all_setup_variables {'computer': {'choose_jobtype': {('computer', 'partition')}, 'choose_partition': {('computer', 'cores_per_node')}, 'choose_submitted': {('computer', 'modules_needed')}}, 'standalone': {}}\n",
      "[2019-07-22 14:13:32,459,459:esm_parser.py:395 - determine_set_variables_in_choose_block() ] valid_model_names=['test_echam', 'test_jsbach']\n",
      "[2019-07-22 14:13:32,460,460:esm_parser.py:395 - determine_set_variables_in_choose_block() ] valid_model_names=['test_echam', 'test_jsbach']\n",
      "[2019-07-22 14:13:32,460,460:esm_parser.py:395 - determine_set_variables_in_choose_block() ] valid_model_names=['test_echam', 'test_jsbach']\n",
      "[2019-07-22 14:13:32,461,461:esm_parser.py:395 - determine_set_variables_in_choose_block() ] valid_model_names=['test_echam', 'test_jsbach']\n",
      "[2019-07-22 14:13:32,461,461:esm_parser.py:395 - determine_set_variables_in_choose_block() ] valid_model_names=['test_echam', 'test_jsbach']\n",
      "[2019-07-22 14:13:32,462,462:esm_parser.py:395 - determine_set_variables_in_choose_block() ] valid_model_names=['test_echam', 'test_jsbach']\n",
      "[2019-07-22 14:13:32,462,462:esm_parser.py:395 - determine_set_variables_in_choose_block() ] valid_model_names=['test_echam', 'test_jsbach']\n",
      "[2019-07-22 14:13:32,463,463:esm_parser.py:395 - determine_set_variables_in_choose_block() ] valid_model_names=['test_echam', 'test_jsbach']\n",
      "[2019-07-22 14:13:32,465,465:esm_parser.py:395 - determine_set_variables_in_choose_block() ] valid_model_names=['test_echam', 'test_jsbach']\n",
      "[2019-07-22 14:13:32,466,466:esm_parser.py:395 - determine_set_variables_in_choose_block() ] valid_model_names=['test_echam', 'test_jsbach']\n",
      "[2019-07-22 14:13:32,466,466:esm_parser.py:395 - determine_set_variables_in_choose_block() ] valid_model_names=['test_echam', 'test_jsbach']\n",
      "[2019-07-22 14:13:32,467,467:esm_parser.py:395 - determine_set_variables_in_choose_block() ] valid_model_names=['test_echam', 'test_jsbach']\n",
      "[2019-07-22 14:13:32,467,467:esm_parser.py:395 - determine_set_variables_in_choose_block() ] valid_model_names=['test_echam', 'test_jsbach']\n",
      "[2019-07-22 14:13:32,468,468:esm_parser.py:395 - determine_set_variables_in_choose_block() ] valid_model_names=['test_echam', 'test_jsbach']\n",
      "[2019-07-22 14:13:32,468,468:esm_parser.py:395 - determine_set_variables_in_choose_block() ] valid_model_names=['test_echam', 'test_jsbach']\n",
      "[2019-07-22 14:13:32,468,468:esm_parser.py:395 - determine_set_variables_in_choose_block() ] valid_model_names=['test_echam', 'test_jsbach']\n",
      "[2019-07-22 14:13:32,469,469:esm_parser.py:395 - determine_set_variables_in_choose_block() ] valid_model_names=['test_echam', 'test_jsbach']\n",
      "[2019-07-22 14:13:32,471,471:esm_parser.py:398 - determine_set_variables_in_choose_block() ] test_echam\n",
      "[2019-07-22 14:13:32,471,471:esm_parser.py:395 - determine_set_variables_in_choose_block() ] valid_model_names=['test_echam', 'test_jsbach']\n",
      "[2019-07-22 14:13:32,472,472:esm_parser.py:395 - determine_set_variables_in_choose_block() ] valid_model_names=['test_echam', 'test_jsbach']\n",
      "[2019-07-22 14:13:32,472,472:esm_parser.py:398 - determine_set_variables_in_choose_block() ] test_echam\n",
      "[2019-07-22 14:13:32,473,473:esm_parser.py:395 - determine_set_variables_in_choose_block() ] valid_model_names=['test_echam', 'test_jsbach']\n"
     ]
    }
   ],
   "source": [
    "c = esm_parser.ConfigSetup(\"test_echam\")"
   ]
  },
  {
   "cell_type": "code",
   "execution_count": 5,
   "metadata": {},
   "outputs": [
    {
     "data": {
      "text/plain": [
       "{'computer': {'hostnames': {'login': 'ollie[01]',\n",
       "   'compute': 'prod-[0-9]{3}',\n",
       "   'mini': 'mini'},\n",
       "  'nodetypes': ['login', 'compute', 'fat', 'mini'],\n",
       "  'batch_system': 'slurm',\n",
       "  'operating_system': {'linux': 'centos'},\n",
       "  'jobtype': 'compute',\n",
       "  'choose_jobtype': {'post': {'partition': 'smp'},\n",
       "   'compute': {'partition': 'mpp'}},\n",
       "  'choose_partition': {'mpp': {'cores_per_node': 36},\n",
       "   'smp': {'cores_per_node': 1}},\n",
       "  'logical_cpus_per_core': 2,\n",
       "  'threads_per_core': 1,\n",
       "  'pool_directories': {'pool': '/work/ollie/pool',\n",
       "   'projects': '/work/ollie/projects'},\n",
       "  'cores_per_node': 888,\n",
       "  'choose_submitted': {True: {'modules_needed': ['centoslibs']}},\n",
       "  'submitted': True,\n",
       "  'accounting': False,\n",
       "  'hyper_flag': ''},\n",
       " 'standalone': True}"
      ]
     },
     "execution_count": 5,
     "metadata": {},
     "output_type": "execute_result"
    }
   ],
   "source": [
    "c.setup_config"
   ]
  },
  {
   "cell_type": "code",
   "execution_count": 37,
   "metadata": {},
   "outputs": [
    {
     "data": {
      "text/plain": [
       "{('computer', 'partition')}"
      ]
     },
     "execution_count": 37,
     "metadata": {},
     "output_type": "execute_result"
    }
   ],
   "source": [
    "c.all_set_variables['computer']['choose_jobtype']"
   ]
  },
  {
   "cell_type": "code",
   "execution_count": 35,
   "metadata": {},
   "outputs": [],
   "source": [
    "def find_one_independent_choose(all_set_variables):\n",
    "    task_list = []\n",
    "    # task_list=['choose_partition', 'choose_jobtype']\n",
    "    for key in all_set_variables:\n",
    "        value = all_set_variables[key]\n",
    "        for choose_keyword, set_vars in value.items():\n",
    "        #choose_keyword=\"choose_partition\"\n",
    "        #set_vars=value[choose_keyword]\n",
    "            task_list.append((key, choose_keyword))\n",
    "            task_list = add_more_important_tasks(choose_keyword, all_set_variables, task_list)\n",
    "            logging.debug(task_list)\n",
    "            return task_list\n",
    "\n",
    "\n",
    "        \n",
    "def add_more_important_tasks(choose_keyword, all_set_variables, task_list):\n",
    "    logging.debug(\"Incoming task list %s\", task_list)\n",
    "    keyword = choose_keyword.replace(\"choose_\", \"\")\n",
    "    logging.debug(\"Keyword = %s\", keyword)\n",
    "    for model in all_set_variables:\n",
    "        for choose_thing in all_set_variables[model]:\n",
    "            logging.debug(\"Choose_thing = %s\", choose_thing)\n",
    "            for (host, keyword_that_is_set) in all_set_variables[model][choose_thing]:\n",
    "                logging.debug(\"Host = %s, keyword_that_is_set=%s\", host, keyword_that_is_set)\n",
    "                if keyword_that_is_set == keyword:\n",
    "                    if (model, choose_thing) not in task_list:\n",
    "                        task_list.insert(0, (model, choose_thing))\n",
    "                        add_more_important_tasks(choose_thing, all_set_variables, task_list)\n",
    "                        return task_list\n",
    "                    else:\n",
    "                        raise KeyError(\"Opps cyclic dependency: %s\" % task_list)\n",
    "    return task_list\n",
    "        "
   ]
  },
  {
   "cell_type": "code",
   "execution_count": 36,
   "metadata": {},
   "outputs": [
    {
     "name": "stderr",
     "output_type": "stream",
     "text": [
      "[2019-07-22 15:07:18,599,599:<ipython-input-35-c492ca057679>:17 - add_more_important_tasks() ] Incoming task list [('computer', 'choose_jobtype')]\n",
      "[2019-07-22 15:07:18,600,600:<ipython-input-35-c492ca057679>:19 - add_more_important_tasks() ] Keyword = jobtype\n",
      "[2019-07-22 15:07:18,600,600:<ipython-input-35-c492ca057679>:22 - add_more_important_tasks() ] Choose_thing = choose_jobtype\n",
      "[2019-07-22 15:07:18,601,601:<ipython-input-35-c492ca057679>:24 - add_more_important_tasks() ] Host = computer, keyword_that_is_set=partition\n",
      "[2019-07-22 15:07:18,602,602:<ipython-input-35-c492ca057679>:22 - add_more_important_tasks() ] Choose_thing = choose_partition\n",
      "[2019-07-22 15:07:18,603,603:<ipython-input-35-c492ca057679>:24 - add_more_important_tasks() ] Host = computer, keyword_that_is_set=cores_per_node\n",
      "[2019-07-22 15:07:18,603,603:<ipython-input-35-c492ca057679>:22 - add_more_important_tasks() ] Choose_thing = choose_submitted\n",
      "[2019-07-22 15:07:18,604,604:<ipython-input-35-c492ca057679>:24 - add_more_important_tasks() ] Host = computer, keyword_that_is_set=modules_needed\n",
      "[2019-07-22 15:07:18,604,604:<ipython-input-35-c492ca057679>:22 - add_more_important_tasks() ] Choose_thing = choose_version\n",
      "[2019-07-22 15:07:18,605,605:<ipython-input-35-c492ca057679>:24 - add_more_important_tasks() ] Host = test_echam, keyword_that_is_set=repo_tag\n",
      "[2019-07-22 15:07:18,606,606:<ipython-input-35-c492ca057679>:24 - add_more_important_tasks() ] Host = test_echam, keyword_that_is_set=dataset\n",
      "[2019-07-22 15:07:18,606,606:<ipython-input-35-c492ca057679>:22 - add_more_important_tasks() ] Choose_thing = choose_resolution\n",
      "[2019-07-22 15:07:18,607,607:<ipython-input-35-c492ca057679>:24 - add_more_important_tasks() ] Host = test_echam, keyword_that_is_set=nprocb\n",
      "[2019-07-22 15:07:18,608,608:<ipython-input-35-c492ca057679>:24 - add_more_important_tasks() ] Host = test_echam, keyword_that_is_set=levels\n",
      "[2019-07-22 15:07:18,608,608:<ipython-input-35-c492ca057679>:24 - add_more_important_tasks() ] Host = test_echam, keyword_that_is_set=Timestep\n",
      "[2019-07-22 15:07:18,609,609:<ipython-input-35-c492ca057679>:24 - add_more_important_tasks() ] Host = test_echam, keyword_that_is_set=_nx\n",
      "[2019-07-22 15:07:18,609,609:<ipython-input-35-c492ca057679>:24 - add_more_important_tasks() ] Host = test_echam, keyword_that_is_set=_ny\n",
      "[2019-07-22 15:07:18,610,610:<ipython-input-35-c492ca057679>:24 - add_more_important_tasks() ] Host = test_echam, keyword_that_is_set=nproca\n",
      "[2019-07-22 15:07:18,611,611:<ipython-input-35-c492ca057679>:22 - add_more_important_tasks() ] Choose_thing = choose_cores_per_node\n",
      "[2019-07-22 15:07:18,612,612:<ipython-input-35-c492ca057679>:24 - add_more_important_tasks() ] Host = test_echam, keyword_that_is_set=nproca\n",
      "[2019-07-22 15:07:18,612,612:<ipython-input-35-c492ca057679>:24 - add_more_important_tasks() ] Host = test_echam, keyword_that_is_set=nprocb\n",
      "[2019-07-22 15:07:18,613,613:<ipython-input-35-c492ca057679>:22 - add_more_important_tasks() ] Choose_thing = choose_resolution\n",
      "[2019-07-22 15:07:18,613,613:<ipython-input-35-c492ca057679>:24 - add_more_important_tasks() ] Host = test_jsbach, keyword_that_is_set=bla\n",
      "[2019-07-22 15:07:18,613,613:<ipython-input-35-c492ca057679>:22 - add_more_important_tasks() ] Choose_thing = choose_exotic\n",
      "[2019-07-22 15:07:18,614,614:<ipython-input-35-c492ca057679>:24 - add_more_important_tasks() ] Host = test_echam, keyword_that_is_set=blu\n",
      "[2019-07-22 15:07:18,615,615:<ipython-input-35-c492ca057679>:24 - add_more_important_tasks() ] Host = test_echam, keyword_that_is_set=bli\n",
      "[2019-07-22 15:07:18,616,616:<ipython-input-35-c492ca057679>:11 - find_one_independent_choose() ] [('computer', 'choose_jobtype')]\n"
     ]
    },
    {
     "data": {
      "text/plain": [
       "[('computer', 'choose_jobtype')]"
      ]
     },
     "execution_count": 36,
     "metadata": {},
     "output_type": "execute_result"
    }
   ],
   "source": [
    "find_one_independent_choose(c.all_set_variables)"
   ]
  },
  {
   "cell_type": "code",
   "execution_count": 24,
   "metadata": {},
   "outputs": [
    {
     "data": {
      "text/plain": [
       "['a', 'a']"
      ]
     },
     "execution_count": 24,
     "metadata": {},
     "output_type": "execute_result"
    }
   ],
   "source": [
    "def insert_to_list(l):\n",
    "    l.insert(0, \"a\")\n",
    "    return\n",
    "    \n",
    "l = [\"a\"]\n",
    "insert_to_list(l)\n",
    "l"
   ]
  },
  {
   "cell_type": "code",
   "execution_count": null,
   "metadata": {},
   "outputs": [],
   "source": []
  }
 ],
 "metadata": {
  "kernelspec": {
   "display_name": "Python 3",
   "language": "python",
   "name": "python3"
  },
  "language_info": {
   "codemirror_mode": {
    "name": "ipython",
    "version": 3
   },
   "file_extension": ".py",
   "mimetype": "text/x-python",
   "name": "python",
   "nbconvert_exporter": "python",
   "pygments_lexer": "ipython3",
   "version": "3.7.3"
  }
 },
 "nbformat": 4,
 "nbformat_minor": 2
}
